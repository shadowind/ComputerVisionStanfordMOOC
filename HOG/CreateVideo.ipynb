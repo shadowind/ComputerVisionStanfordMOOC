{
 "cells": [
  {
   "cell_type": "code",
   "execution_count": 1,
   "metadata": {
    "collapsed": false
   },
   "outputs": [
    {
     "name": "stdout",
     "output_type": "stream",
     "text": [
      "['../DJI_0035 (3-30-2018 4-40-58 PM)\\\\DJI_0035 0800.jpg', '../DJI_0035 (3-30-2018 4-40-58 PM)\\\\DJI_0035 0801.jpg', '../DJI_0035 (3-30-2018 4-40-58 PM)\\\\DJI_0035 0802.jpg', '../DJI_0035 (3-30-2018 4-40-58 PM)\\\\DJI_0035 0803.jpg', '../DJI_0035 (3-30-2018 4-40-58 PM)\\\\DJI_0035 0804.jpg', '../DJI_0035 (3-30-2018 4-40-58 PM)\\\\DJI_0035 0805.jpg', '../DJI_0035 (3-30-2018 4-40-58 PM)\\\\DJI_0035 0806.jpg', '../DJI_0035 (3-30-2018 4-40-58 PM)\\\\DJI_0035 0807.jpg', '../DJI_0035 (3-30-2018 4-40-58 PM)\\\\DJI_0035 0808.jpg', '../DJI_0035 (3-30-2018 4-40-58 PM)\\\\DJI_0035 0809.jpg']\n"
     ]
    }
   ],
   "source": [
    "import glob\n",
    "from IPython.display import HTML\n",
    "import os\n",
    "import cv2\n",
    "video_name = 'video.avi'\n",
    "image_folder='../DJI_0035 (3-30-2018 4-40-58 PM)'\n",
    "# images = [img for img in os.listdir(image_folder) if img.endswith(\".jpg\")]\n",
    "images = glob.glob(os.path.join(image_folder, \"*.jpg\"))\n",
    "print(images[0:10])"
   ]
  },
  {
   "cell_type": "code",
   "execution_count": 27,
   "metadata": {
    "collapsed": false
   },
   "outputs": [],
   "source": [
    "img = cv2.imread(images[0])\n",
    "width,height = img.shape[0:2]"
   ]
  },
  {
   "cell_type": "code",
   "execution_count": 28,
   "metadata": {
    "collapsed": false
   },
   "outputs": [],
   "source": [
    "video = cv2.VideoWriter(\"output.mp4\", cv2.VideoWriter_fourcc(*\"DIVX\"), 30,(width,height))\n",
    "# FourCC is a 4-byte code used to specify the video codec. The list of available codes can be found in fourcc.org. It is platform dependent. Following codecs works fine for me.\n",
    "\n",
    "# In Fedora: DIVX, XVID, MJPG, X264, WMV1, WMV2. (XVID is more preferable. MJPG results in high size video. X264 gives very small size video)\n",
    "# In Windows: DIVX (More to be tested and added)\n",
    "# In OSX : *(I don't have access to OSX. Can some one fill this?)*"
   ]
  },
  {
   "cell_type": "code",
   "execution_count": 29,
   "metadata": {
    "collapsed": false
   },
   "outputs": [
    {
     "name": "stdout",
     "output_type": "stream",
     "text": [
      "Wall time: 39.5 s\n"
     ]
    }
   ],
   "source": [
    "%%time\n",
    "for j in range(0,500):\n",
    "    img = cv2.imread(images[j])\n",
    "    video.write(img)\n",
    "video.release()"
   ]
  },
  {
   "cell_type": "code",
   "execution_count": 20,
   "metadata": {
    "collapsed": false
   },
   "outputs": [
    {
     "data": {
      "text/html": [
       "\n",
       "<video width=\"960\" height=\"540\" controls>\n",
       "   <source src=\"output.mp4\">\n",
       "</video> "
      ],
      "text/plain": [
       "<IPython.core.display.HTML object>"
      ]
     },
     "execution_count": 20,
     "metadata": {},
     "output_type": "execute_result"
    }
   ],
   "source": [
    "HTML(\"\"\"\n",
    "<video width=\"960\" height=\"540\" controls>\n",
    "   <source src=\"{0}\">\n",
    "</video> \"\"\".format('output.mp4'))"
   ]
  },
  {
   "cell_type": "code",
   "execution_count": null,
   "metadata": {
    "collapsed": true
   },
   "outputs": [],
   "source": []
  }
 ],
 "metadata": {
  "anaconda-cloud": {},
  "kernelspec": {
   "display_name": "Python [conda root]",
   "language": "python",
   "name": "conda-root-py"
  },
  "language_info": {
   "codemirror_mode": {
    "name": "ipython",
    "version": 3
   },
   "file_extension": ".py",
   "mimetype": "text/x-python",
   "name": "python",
   "nbconvert_exporter": "python",
   "pygments_lexer": "ipython3",
   "version": "3.5.2"
  }
 },
 "nbformat": 4,
 "nbformat_minor": 2
}
