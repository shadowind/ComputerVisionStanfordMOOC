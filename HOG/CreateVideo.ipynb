{
 "cells": [
  {
   "cell_type": "code",
   "execution_count": 4,
   "metadata": {
    "collapsed": true
   },
   "outputs": [],
   "source": [
    "import cv2\n",
    "import os"
   ]
  },
  {
   "cell_type": "code",
   "execution_count": 1,
   "metadata": {
    "collapsed": false
   },
   "outputs": [],
   "source": [
    "# image_folder = 'images'\n",
    "video_name = 'video.avi'\n",
    "image_folder='../TrainingData/negative'\n"
   ]
  },
  {
   "cell_type": "code",
   "execution_count": null,
   "metadata": {
    "collapsed": true
   },
   "outputs": [],
   "source": [
    "images = [img for img in os.listdir(image_folder) if img.endswith(\".jpg\")]\n",
    "frame = cv2.imread(os.path.join(image_folder, images[0]))\n",
    "height, width, layers = frame.shape\n",
    "\n",
    "video = cv2.VideoWriter(video_name, -1, 1, (width,height))\n",
    "\n",
    "for image in images:\n",
    "    video.write(cv2.imread(os.path.join(image_folder, image)))\n",
    "\n",
    "cv2.destroyAllWindows()\n",
    "video.release()"
   ]
  },
  {
   "cell_type": "code",
   "execution_count": 11,
   "metadata": {
    "collapsed": false
   },
   "outputs": [
    {
     "name": "stdout",
     "output_type": "stream",
     "text": [
      "['../TrainingData/negative\\\\1.jpg', '../TrainingData/negative\\\\10.jpg', '../TrainingData/negative\\\\100.jpg', '../TrainingData/negative\\\\101.jpg', '../TrainingData/negative\\\\102.jpg', '../TrainingData/negative\\\\103.jpg', '../TrainingData/negative\\\\104.jpg', '../TrainingData/negative\\\\105.jpg', '../TrainingData/negative\\\\106.jpg', '../TrainingData/negative\\\\107.jpg', '../TrainingData/negative\\\\108.jpg', '../TrainingData/negative\\\\109.jpg', '../TrainingData/negative\\\\11.jpg', '../TrainingData/negative\\\\110.jpg', '../TrainingData/negative\\\\111.jpg', '../TrainingData/negative\\\\112.jpg', '../TrainingData/negative\\\\113.jpg', '../TrainingData/negative\\\\114.jpg', '../TrainingData/negative\\\\115.jpg', '../TrainingData/negative\\\\116.jpg', '../TrainingData/negative\\\\117.jpg', '../TrainingData/negative\\\\118.jpg', '../TrainingData/negative\\\\119.jpg', '../TrainingData/negative\\\\12.jpg', '../TrainingData/negative\\\\13.jpg', '../TrainingData/negative\\\\14.jpg', '../TrainingData/negative\\\\15.jpg', '../TrainingData/negative\\\\16.jpg', '../TrainingData/negative\\\\17.jpg', '../TrainingData/negative\\\\18.jpg', '../TrainingData/negative\\\\19.jpg', '../TrainingData/negative\\\\2.jpg', '../TrainingData/negative\\\\20.jpg', '../TrainingData/negative\\\\21.jpg', '../TrainingData/negative\\\\22.jpg', '../TrainingData/negative\\\\23.jpg', '../TrainingData/negative\\\\24.jpg', '../TrainingData/negative\\\\25.jpg', '../TrainingData/negative\\\\26.jpg', '../TrainingData/negative\\\\28.jpg', '../TrainingData/negative\\\\29.jpg', '../TrainingData/negative\\\\3.jpg', '../TrainingData/negative\\\\30.jpg', '../TrainingData/negative\\\\31.jpg', '../TrainingData/negative\\\\32.jpg', '../TrainingData/negative\\\\33.jpg', '../TrainingData/negative\\\\34.jpg', '../TrainingData/negative\\\\35.jpg', '../TrainingData/negative\\\\36.jpg', '../TrainingData/negative\\\\37.jpg', '../TrainingData/negative\\\\38.jpg', '../TrainingData/negative\\\\39.jpg', '../TrainingData/negative\\\\4.jpg', '../TrainingData/negative\\\\40.jpg', '../TrainingData/negative\\\\41.jpg', '../TrainingData/negative\\\\42.jpg', '../TrainingData/negative\\\\43.jpg', '../TrainingData/negative\\\\44.jpg', '../TrainingData/negative\\\\45.jpg', '../TrainingData/negative\\\\46.jpg', '../TrainingData/negative\\\\47.jpg', '../TrainingData/negative\\\\48.jpg', '../TrainingData/negative\\\\49.jpg', '../TrainingData/negative\\\\5.jpg', '../TrainingData/negative\\\\50.jpg', '../TrainingData/negative\\\\51.jpg', '../TrainingData/negative\\\\52.jpg', '../TrainingData/negative\\\\53.jpg', '../TrainingData/negative\\\\54.jpg', '../TrainingData/negative\\\\55.jpg', '../TrainingData/negative\\\\56.jpg', '../TrainingData/negative\\\\57.jpg', '../TrainingData/negative\\\\58.jpg', '../TrainingData/negative\\\\59.jpg', '../TrainingData/negative\\\\6.jpg', '../TrainingData/negative\\\\60.jpg', '../TrainingData/negative\\\\61.jpg', '../TrainingData/negative\\\\62.jpg', '../TrainingData/negative\\\\63.jpg', '../TrainingData/negative\\\\64.jpg', '../TrainingData/negative\\\\65.jpg', '../TrainingData/negative\\\\66.jpg', '../TrainingData/negative\\\\67.jpg', '../TrainingData/negative\\\\68.jpg', '../TrainingData/negative\\\\69.jpg', '../TrainingData/negative\\\\7.jpg', '../TrainingData/negative\\\\70.jpg', '../TrainingData/negative\\\\71.jpg', '../TrainingData/negative\\\\72.jpg', '../TrainingData/negative\\\\73.jpg', '../TrainingData/negative\\\\74.jpg', '../TrainingData/negative\\\\75.jpg', '../TrainingData/negative\\\\76.jpg', '../TrainingData/negative\\\\77.jpg', '../TrainingData/negative\\\\78.jpg', '../TrainingData/negative\\\\79.jpg', '../TrainingData/negative\\\\8.jpg', '../TrainingData/negative\\\\80.jpg', '../TrainingData/negative\\\\81.jpg', '../TrainingData/negative\\\\82.jpg', '../TrainingData/negative\\\\83.jpg', '../TrainingData/negative\\\\84.jpg', '../TrainingData/negative\\\\85.jpg', '../TrainingData/negative\\\\86.jpg', '../TrainingData/negative\\\\87.jpg', '../TrainingData/negative\\\\88.jpg', '../TrainingData/negative\\\\89.jpg', '../TrainingData/negative\\\\9.jpg', '../TrainingData/negative\\\\90.jpg', '../TrainingData/negative\\\\91.jpg', '../TrainingData/negative\\\\92.jpg', '../TrainingData/negative\\\\93.jpg', '../TrainingData/negative\\\\94.jpg', '../TrainingData/negative\\\\95.jpg', '../TrainingData/negative\\\\96.jpg', '../TrainingData/negative\\\\97.jpg', '../TrainingData/negative\\\\98.jpg', '../TrainingData/negative\\\\99.jpg']\n"
     ]
    }
   ],
   "source": [
    "from moviepy.editor import *\n",
    "import glob\n",
    "from IPython.display import HTML\n",
    "\n",
    "\n",
    "image_folder='../TrainingData/negative'\n",
    "# images = [img for img in os.listdir(image_folder) if img.endswith(\".jpg\")]\n",
    "images = glob.glob(os.path.join(image_folder, \"*.jpg\"))\n",
    "print(images)"
   ]
  },
  {
   "cell_type": "code",
   "execution_count": 9,
   "metadata": {
    "collapsed": false
   },
   "outputs": [
    {
     "name": "stdout",
     "output_type": "stream",
     "text": [
      "[MoviePy] >>>> Building video test.mp4\n",
      "[MoviePy] Writing video test.mp4\n"
     ]
    },
    {
     "name": "stderr",
     "output_type": "stream",
     "text": [
      "100%|███████████████████████████████████████████████████████████████████████████▉| 5664/5665 [00:05<00:00, 1067.59it/s]\n"
     ]
    },
    {
     "name": "stdout",
     "output_type": "stream",
     "text": [
      "[MoviePy] Done.\n",
      "[MoviePy] >>>> Video ready: test.mp4 \n",
      "\n"
     ]
    }
   ],
   "source": [
    "# img = ['1.png', '2.png', '3.png', '4.png', '5.png', '6.png',\n",
    "#        '7.png', '8.png', '9.png', '10.png', '11.png', '12.png']\n",
    "\n",
    "clips = [ImageClip(m).set_duration(2)\n",
    "      for m in images]\n",
    "\n",
    "concat_clip = concatenate_videoclips(clips, method=\"compose\")\n",
    "concat_clip.write_videofile(\"test.mp4\", fps=24)"
   ]
  },
  {
   "cell_type": "code",
   "execution_count": 15,
   "metadata": {
    "collapsed": false
   },
   "outputs": [
    {
     "data": {
      "text/html": [
       "\n",
       "<video width=\"960\" height=\"540\" controls>\n",
       "   <source src=\"test.mp4\">\n",
       "</video> "
      ],
      "text/plain": [
       "<IPython.core.display.HTML object>"
      ]
     },
     "execution_count": 15,
     "metadata": {},
     "output_type": "execute_result"
    }
   ],
   "source": [
    "HTML(\"\"\"\n",
    "<video width=\"960\" height=\"540\" controls>\n",
    "   <source src=\"{0}\">\n",
    "</video> \"\"\".format('test.mp4'))"
   ]
  },
  {
   "cell_type": "code",
   "execution_count": null,
   "metadata": {
    "collapsed": true
   },
   "outputs": [],
   "source": []
  }
 ],
 "metadata": {
  "kernelspec": {
   "display_name": "Python [conda root]",
   "language": "python",
   "name": "conda-root-py"
  },
  "language_info": {
   "codemirror_mode": {
    "name": "ipython",
    "version": 3
   },
   "file_extension": ".py",
   "mimetype": "text/x-python",
   "name": "python",
   "nbconvert_exporter": "python",
   "pygments_lexer": "ipython3",
   "version": "3.5.2"
  }
 },
 "nbformat": 4,
 "nbformat_minor": 2
}
