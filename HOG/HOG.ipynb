{
 "cells": [
  {
   "cell_type": "markdown",
   "metadata": {},
   "source": [
    "https://www.learnopencv.com/histogram-of-oriented-gradients/"
   ]
  },
  {
   "cell_type": "code",
   "execution_count": 1,
   "metadata": {
    "collapsed": true
   },
   "outputs": [],
   "source": [
    "# Import the required modules\n",
    "from skimage.feature import local_binary_pattern\n",
    "from sklearn.svm import LinearSVC\n",
    "from sklearn.linear_model import LogisticRegression\n",
    "from sklearn.externals import joblib\n",
    "from skimage.io import imread, imsave\n",
    "from skimage.feature import hog\n",
    "from skimage.transform import pyramid_gaussian\n",
    "import cv2\n",
    "\n",
    "# import argparse as ap\n",
    "import glob\n",
    "import os\n",
    "# from config import *"
   ]
  },
  {
   "cell_type": "code",
   "execution_count": 2,
   "metadata": {
    "collapsed": true
   },
   "outputs": [],
   "source": [
    "pos_dest_path = '../TrainingData/positive'\n",
    "neg_dest_path = '../TrainingData/negative'\n",
    "pos_feat_ph = '../TrainingData/HOG/positive'\n",
    "neg_feat_ph = '../TrainingData/HOG/negative'\n",
    "model_path = '../Model/CV'\n",
    "min_wdw_sz=[64, 64]\n",
    "step_size=[60, 60]\n",
    "orientations=9\n",
    "pixels_per_cell= [8, 8]\n",
    "cells_per_block= [3, 3]\n",
    "visualize= False\n",
    "normalize= True\n",
    "des_type='HOG'\n",
    "clf_type = 'LIN_SVM'"
   ]
  },
  {
   "cell_type": "code",
   "execution_count": 44,
   "metadata": {
    "collapsed": false
   },
   "outputs": [
    {
     "name": "stdout",
     "output_type": "stream",
     "text": [
      "Positive features saved in ../TrainingData/HOG/positive\n",
      "Calculating the descriptors for the negative samples and saving them\n",
      "Negative features saved in ../TrainingData/HOG/negative\n",
      "Completed calculating features from training images\n"
     ]
    }
   ],
   "source": [
    "min_wdw_sz=[100, 40]\n",
    "step_size=[10, 10]\n",
    "orientations=9\n",
    "pixels_per_cell= [8, 8]\n",
    "cells_per_block= [3, 3]\n",
    "visualize= False\n",
    "normalize= True\n",
    "des_type='HOG'\n",
    "for im_path in glob.glob(os.path.join(pos_dest_path, \"*\")):\n",
    "    im = imread(im_path, as_grey=True)\n",
    "    if des_type == \"HOG\":\n",
    "        fd = hog(im, orientations, pixels_per_cell, cells_per_block, visualize, normalize)\n",
    "        fd_name = os.path.split(im_path)[1].split(\".\")[0] + \".feat\"\n",
    "        fd_path = os.path.join(pos_feat_ph, fd_name)\n",
    "        joblib.dump(fd, fd_path)\n",
    "print(\"Positive features saved in {}\".format(pos_feat_ph))\n",
    "\n",
    "print(\"Calculating the descriptors for the negative samples and saving them\")\n",
    "for im_path in glob.glob(os.path.join(neg_dest_path, \"*\")):\n",
    "    im = imread(im_path, as_grey=True)\n",
    "    if des_type == \"HOG\":\n",
    "        fd = hog(im, orientations, pixels_per_cell, cells_per_block, visualize, normalize)\n",
    "        fd_name = os.path.split(im_path)[1].split(\".\")[0] + \".feat\"\n",
    "        fd_path = os.path.join(neg_feat_ph, fd_name)\n",
    "        joblib.dump(fd, fd_path)\n",
    "print(\"Negative features saved in {}\".format(neg_feat_ph))\n",
    "print(\"Completed calculating features from training images\")"
   ]
  },
  {
   "cell_type": "code",
   "execution_count": 6,
   "metadata": {
    "collapsed": false
   },
   "outputs": [
    {
     "name": "stdout",
     "output_type": "stream",
     "text": [
      "Training a Linear SVM Classifier\n",
      "Classifier saved to ../Model/CVLIN_SVM.m\n"
     ]
    }
   ],
   "source": [
    "# if __name__ == \"__main__\":\n",
    "#     # Parse the command line arguments\n",
    "#     parser = ap.ArgumentParser()\n",
    "#     parser.add_argument('-p', \"--posfeat\", help=\"Path to the positive features directory\", required=True)\n",
    "#     parser.add_argument('-n', \"--negfeat\", help=\"Path to the negative features directory\", required=True)\n",
    "#     parser.add_argument('-c', \"--classifier\", help=\"Classifier to be used\", default=\"LIN_SVM\")\n",
    "#     args = vars(parser.parse_args())\n",
    "\n",
    "#     pos_feat_path =  args[\"posfeat\"]\n",
    "#     neg_feat_path = args[\"negfeat\"]\n",
    "\n",
    "#     # Classifiers supported\n",
    "#     clf_type = args['classifier']\n",
    "\n",
    "fds = []\n",
    "labels = []\n",
    "    # Load the positive features\n",
    "for feat_path in glob.glob(os.path.join(pos_feat_ph,\"*.feat\")):\n",
    "    fd = joblib.load(feat_path)\n",
    "    fds.append(fd)\n",
    "    labels.append(1)\n",
    "\n",
    "    # Load the negative features\n",
    "for feat_path in glob.glob(os.path.join(neg_feat_ph,\"*.feat\")):\n",
    "    fd = joblib.load(feat_path)\n",
    "    fds.append(fd)\n",
    "    labels.append(0)\n",
    "\n",
    "if clf_type is \"LIN_SVM\":\n",
    "    clf = LinearSVC()\n",
    "    print(\"Training a Linear SVM Classifier\")\n",
    "    clf.fit(fds, labels)\n",
    "        # If feature directories don't exist, create them\n",
    "    if not os.path.isdir(model_path):\n",
    "        os.makedirs(model_path)\n",
    "#     fd = hog(im, orientations, pixels_per_cell, cells_per_block, visualize, normalize)\n",
    "    model_path = model_path+clf_type+ \".m\"\n",
    "    joblib.dump(clf, model_path)\n",
    "    print(\"Classifier saved to {}\".format(model_path))"
   ]
  },
  {
   "cell_type": "code",
   "execution_count": null,
   "metadata": {
    "collapsed": true
   },
   "outputs": [],
   "source": []
  }
 ],
 "metadata": {
  "anaconda-cloud": {},
  "kernelspec": {
   "display_name": "Python [conda root]",
   "language": "python",
   "name": "conda-root-py"
  },
  "language_info": {
   "codemirror_mode": {
    "name": "ipython",
    "version": 3
   },
   "file_extension": ".py",
   "mimetype": "text/x-python",
   "name": "python",
   "nbconvert_exporter": "python",
   "pygments_lexer": "ipython3",
   "version": "3.5.2"
  }
 },
 "nbformat": 4,
 "nbformat_minor": 2
}
