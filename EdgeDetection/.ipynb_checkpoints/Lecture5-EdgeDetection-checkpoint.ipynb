{
 "cells": [
  {
   "cell_type": "markdown",
   "metadata": {},
   "source": [
    "## Canny Edge Detector\n",
    "\n",
    "1.Filter image with x, y derivatives of Gaussian\t\n",
    "\n",
    "2. Find\tmagnitude and orientation of gradient\t\n",
    "\n",
    "3. Non maximum suppression   \n",
    "* Consider the gradient's direction. Should be the direction of biggest change. if it's local maxima, then declare it as \"edge\". otherwise gradient= 0\n",
    "<img src='Non-max-suppression.jpg'>\n",
    "\n",
    "4. Thresholding\tand\tlinking\t(hysteresis):\t\t\n",
    "* If the gradient at a pixel is:\n",
    "    - above \"high\", declare it as an \"edge pixel\"\n",
    "    - below \"low\", declate it as a \"non-edge\"\n",
    "    - between \"low\" and \"high\"\n",
    "         if any neighbor is edge, then declare it as an edge; otherwise \"non-edge\"\n"
   ]
  },
  {
   "cell_type": "code",
   "execution_count": null,
   "metadata": {
    "collapsed": true
   },
   "outputs": [],
   "source": [
    "import numpy as np\n",
    "import matplotlib.pyplot as plt\n",
    "%matplotlib inline"
   ]
  },
  {
   "cell_type": "markdown",
   "metadata": {},
   "source": [
    "∇ Gradient\n",
    "Δ Laplacian"
   ]
  },
  {
   "cell_type": "code",
   "execution_count": null,
   "metadata": {
    "collapsed": false
   },
   "outputs": [],
   "source": [
    "mu = 10\n",
    "sigma = 5\n",
    "noise = np.random.normal(mu, sigma, 100) \n",
    "A = [item for item in [0,255] for i in range(50)]"
   ]
  },
  {
   "cell_type": "code",
   "execution_count": null,
   "metadata": {
    "collapsed": false
   },
   "outputs": [],
   "source": [
    "B = A + noise\n",
    "print(B)"
   ]
  },
  {
   "cell_type": "code",
   "execution_count": null,
   "metadata": {
    "collapsed": false
   },
   "outputs": [],
   "source": [
    "plt.plot(B)"
   ]
  },
  {
   "cell_type": "code",
   "execution_count": null,
   "metadata": {
    "collapsed": false
   },
   "outputs": [],
   "source": [
    "plt.plot(B[1:]/B[0:(len(B)-1)])"
   ]
  },
  {
   "cell_type": "code",
   "execution_count": null,
   "metadata": {
    "collapsed": false
   },
   "outputs": [],
   "source": [
    "from scipy.ndimage.filters import gaussian_filter"
   ]
  },
  {
   "cell_type": "code",
   "execution_count": null,
   "metadata": {
    "collapsed": false
   },
   "outputs": [],
   "source": [
    "C = gaussian_filter(B, sigma, order=0, output=None, mode='reflect', cval=0.0, truncate=4.0)"
   ]
  },
  {
   "cell_type": "code",
   "execution_count": null,
   "metadata": {
    "collapsed": false
   },
   "outputs": [],
   "source": [
    "plt.plot(C)"
   ]
  },
  {
   "cell_type": "code",
   "execution_count": null,
   "metadata": {
    "collapsed": false
   },
   "outputs": [],
   "source": [
    "plt.plot(C[1:]/C[0:(len(C)-1)])"
   ]
  },
  {
   "cell_type": "markdown",
   "metadata": {},
   "source": [
    "## A model fitting method for edge detection\t\n",
    "– RANSAC (RANdom SAmple Consensus): is an iterative method for estimating a mathematical model from a data set that contains outliers.  \n",
    "\n",
    "RANSAC is accomplished with the following steps:  \n",
    "    1. Randomly selecting a subset of the data set\n",
    "    2. Fitting a model to the selected subset\n",
    "    3. Determining the number of outliers\n",
    "    4. Repeating steps 1-3 for a prescribed number of iterations\n"
   ]
  },
  {
   "cell_type": "code",
   "execution_count": null,
   "metadata": {
    "collapsed": false
   },
   "outputs": [],
   "source": [
    "\n",
    "\n",
    "fig, ax = plt.subplots()\n",
    "# fig.set_tight_layout(True)\n",
    "\n",
    "# Query the figure's on-screen size and DPI. Note that when saving the figure to\n",
    "# a file, we need to provide a DPI for that separately.\n",
    "print('fig size: {0} DPI, size in inches {1}'.format(\n",
    "    fig.get_dpi(), fig.get_size_inches()))\n",
    "def init():\n",
    "    line.set_data([], [])\n",
    "    return (line,)\n",
    "\n",
    "# Plot a scatter that persists (isn't redrawn) and the initial line.\n",
    "x = np.arange(0, 20, 0.1)\n",
    "ax.scatter(x, x + np.random.normal(0, 3.0, len(x)))\n",
    "line, = ax.plot(x, x - 5, 'r-', linewidth=2)\n",
    "\n",
    "\n",
    "def update(i):\n",
    "    label = 'timestep {0}'.format(i)\n",
    "    print(label)\n",
    "    # Update the line and the axes (with a new xlabel). Return a tuple of\n",
    "    # \"artists\" that have to be redrawn for this frame.\n",
    "    line.set_ydata(x - 5 + i)\n",
    "    ax.set_xlabel(label)\n",
    "    return line, ax\n",
    "\n",
    "anim = animation.FuncAnimation(fig, update, frames=np.arange(0, 10), interval=200)\n",
    "HTML(anim.to_html5_video())\n",
    "\n",
    "\n",
    "# if __name__ == '__main__':\n",
    "    # FuncAnimation will call the 'update' function for each frame; here\n",
    "    # animating over 10 frames, with an interval of 200ms between frames.\n",
    "    \n",
    "#     if len(sys.argv) > 1 and sys.argv[1] == 'save':\n",
    "#         anim.save('line.gif', dpi=80, writer='imagemagick')\n",
    "#     else:\n",
    "        # plt.show() will just loop the animation forever.\n",
    "#         plt.show()\n",
    "        \n",
    "# anim = animation.FuncAnimation(fig, animate, init_func=init,\n",
    "#                                frames=N, interval=20, blit=True)\n",
    "# anim"
   ]
  },
  {
   "cell_type": "code",
   "execution_count": null,
   "metadata": {
    "collapsed": true
   },
   "outputs": [],
   "source": [
    "import numpy as np\n",
    "import scipy\n",
    "import matplotlib.pyplot as plt\n",
    "import math\n",
    "import sys\n",
    " \n",
    "# Ransac parameters\n",
    "ransac_iterations = 20  # number of iterations\n",
    "ransac_threshold = 3    # threshold\n",
    "ransac_ratio = 0.6      # ratio of inliers required to assert\n",
    "                        # that a model fits well to data\n",
    "# generate sparse input data\n",
    "n_samples = 500               # number of input points\n",
    "outliers_ratio = 0.4          # ratio of outliers\n",
    " \n",
    "n_inputs = 1\n",
    "n_outputs = 1\n",
    " \n",
    "# generate samples\n",
    "x = 30*np.random.random((n_samples,n_inputs) )\n",
    " \n",
    "# generate line's slope (called here perfect fit)\n",
    "perfect_fit = 0.5*np.random.normal(size=(n_inputs,n_outputs) )\n",
    " \n",
    "# compute output\n",
    "y = scipy.dot(x,perfect_fit)"
   ]
  },
  {
   "cell_type": "code",
   "execution_count": null,
   "metadata": {
    "collapsed": false
   },
   "outputs": [],
   "source": [
    "# add a little gaussian noise\n",
    "x_noise = x + np.random.normal(size=x.shape)\n",
    "y_noise = y + np.random.normal(size=y.shape)\n",
    " \n",
    "# add some outliers to the point-set\n",
    "n_outliers = int(outliers_ratio*n_samples)\n",
    "indices = np.arange(x_noise.shape[0])\n",
    "np.random.shuffle(indices)\n",
    "outlier_indices = indices[:n_outliers]\n",
    " \n",
    "x_noise[outlier_indices] = 30*np.random.random(size=(n_outliers,n_inputs))\n",
    " \n",
    "# gaussian outliers\n",
    "y_noise[outlier_indices] = 30*np.random.normal(size=(n_outliers,n_outputs))"
   ]
  },
  {
   "cell_type": "code",
   "execution_count": null,
   "metadata": {
    "collapsed": true
   },
   "outputs": [],
   "source": [
    "def find_line_model(points):\n",
    "    \"\"\" find a line model for the given points\n",
    "    :param points selected points for model fitting\n",
    "    :return line model\n",
    "    \"\"\"\n",
    " \n",
    "    # [WARNING] vertical and horizontal lines should be treated differently\n",
    "    #           here we just add some noise to avoid division by zero\n",
    " \n",
    "    # find a line model for these points\n",
    "    m = (points[1,1] - points[0,1]) / (points[1,0] - points[0,0] + sys.float_info.epsilon)  # slope (gradient) of the line\n",
    "    c = points[1,1] - m * points[1,0]                                     # y-intercept of the line\n",
    " \n",
    "    return m, c\n",
    "\n",
    "def find_intercept_point(m, c, x0, y0):\n",
    "    \"\"\" find an intercept point of the line model with\n",
    "        a normal from point (x0,y0) to it\n",
    "    :param m slope of the line model\n",
    "    :param c y-intercept of the line model\n",
    "    :param x0 point's x coordinate\n",
    "    :param y0 point's y coordinate\n",
    "    :return intercept point\n",
    "    \"\"\"\n",
    " \n",
    "    # intersection point with the model\n",
    "    x = (x0 + m*y0 - m*c)/(1 + m**2)\n",
    "    y = (m*x0 + (m**2)*y0 - (m**2)*c)/(1 + m**2) + c\n",
    " \n",
    "    return x, y"
   ]
  },
  {
   "cell_type": "code",
   "execution_count": null,
   "metadata": {
    "collapsed": true
   },
   "outputs": [],
   "source": [
    "def ransac_plot(n, x, y, m, c, final=False, x_in=(), y_in=(), points=()):\n",
    "    \"\"\" plot the current RANSAC step\n",
    "    :param n      iteration\n",
    "    :param points picked up points for modeling\n",
    "    :param x      samples x\n",
    "    :param y      samples y\n",
    "    :param m      slope of the line model\n",
    "    :param c      shift of the line model\n",
    "    :param x_in   inliers x\n",
    "    :param y_in   inliers y\n",
    "    \"\"\"\n",
    " \n",
    "    fname = \"output/figure_\" + str(n) + \".png\"\n",
    "    line_width = 1.\n",
    "    line_color = '#0080ff'\n",
    "    title = 'iteration ' + str(n)\n",
    " \n",
    "    if final:\n",
    "        fname = \"output/final.png\"\n",
    "        line_width = 3.\n",
    "        line_color = '#ff0000'\n",
    "        title = 'final solution'\n",
    " \n",
    "    plt.figure(\"Ransac\", figsize=(15., 15.))\n",
    " \n",
    "    # grid for the plot\n",
    "    grid = [min(x) - 10, max(x) + 10, min(y) - 20, max(y) + 20]\n",
    "    plt.axis(grid)\n",
    " \n",
    "    # put grid on the plot\n",
    "    plt.grid(b=True, which='major', color='0.75', linestyle='--')\n",
    "    plt.xticks([i for i in range(int(min(x)) - 10, int(max(x)) + 10, 5)])\n",
    "    plt.yticks([i for i in range(int(min(y)) - 20, int(max(y)) + 20, 10)])\n",
    " \n",
    "    # plot input points\n",
    "    plt.plot(x[:,0], y[:,0], marker='o', label='Input points', color='#00cc00', linestyle='None', alpha=0.4)\n",
    " \n",
    "    # draw the current model\n",
    "    plt.plot(x, m*x + c, 'r', label='Line model', color=line_color, linewidth=line_width)\n",
    " \n",
    "    # draw inliers\n",
    "    if not final:\n",
    "        plt.plot(x_in, y_in, marker='o', label='Inliers', linestyle='None', color='#ff0000', alpha=0.6)\n",
    " \n",
    "    # draw points picked up for the modeling\n",
    "    if not final:\n",
    "        plt.plot(points[:,0], points[:,1], marker='o', label='Picked points', color='#0000cc', linestyle='None', alpha=0.6)\n",
    " \n",
    "    plt.title(title)\n",
    "    plt.legend()\n",
    "    plt.savefig(fname)\n",
    "    plt.close()"
   ]
  },
  {
   "cell_type": "code",
   "execution_count": null,
   "metadata": {
    "collapsed": false
   },
   "outputs": [],
   "source": [
    "data = np.hstack( (x_noise,y_noise) )\n",
    " \n",
    "ratio = 0.\n",
    "model_m = 0.\n",
    "model_c = 0.\n",
    " \n",
    "# perform RANSAC iterations\n",
    "for it in range(ransac_iterations):\n",
    " \n",
    "    # pick up two random points\n",
    "    n = 2\n",
    " \n",
    "    all_indices = np.arange(x_noise.shape[0])\n",
    "    np.random.shuffle(all_indices)\n",
    " \n",
    "    indices_1 = all_indices[:n]\n",
    "    indices_2 = all_indices[n:]\n",
    " \n",
    "    maybe_points = data[indices_1,:]\n",
    "    test_points = data[indices_2,:]\n",
    " \n",
    "    # find a line model for these points\n",
    "    m, c = find_line_model(maybe_points)\n",
    " \n",
    "    x_list = []\n",
    "    y_list = []\n",
    "    num = 0\n",
    " \n",
    "    # find orthogonal lines to the model for all testing points\n",
    "    for ind in range(test_points.shape[0]):\n",
    " \n",
    "        x0 = test_points[ind,0]\n",
    "        y0 = test_points[ind,1]\n",
    " \n",
    "        # find an intercept point of the model with a normal from point (x0,y0)\n",
    "        x1, y1 = find_intercept_point(m, c, x0, y0)\n",
    " \n",
    "        # distance from point to the model\n",
    "        dist = math.sqrt((x1 - x0)**2 + (y1 - y0)**2)\n",
    " \n",
    "        # check whether it's an inlier or not\n",
    "        if dist < ransac_threshold:\n",
    "            x_list.append(x0)\n",
    "            y_list.append(y0)\n",
    "            num += 1\n",
    " \n",
    "    x_inliers = np.array(x_list)\n",
    "    y_inliers = np.array(y_list)\n",
    " \n",
    "    # in case a new model is better - cache it\n",
    "    if num/float(n_samples) > ratio:\n",
    "        ratio = num/float(n_samples)\n",
    "        model_m = m\n",
    "        model_c = c\n",
    " \n",
    "    print('  inlier ratio = ', num/float(n_samples))\n",
    "    print('  model_m = ', model_m)\n",
    "    print('  model_c = ', model_c)\n",
    " \n",
    "    # plot the current step\n",
    "    ransac_plot(it, x_noise,y_noise, m, c, False, x_inliers, y_inliers, maybe_points)\n",
    " \n",
    "    # we are done in case we have enough inliers\n",
    "    if num > n_samples*ransac_ratio:\n",
    "        print('The model is found !')\n",
    "        break\n",
    " \n",
    "# plot the final model\n",
    "ransac_plot(0, x_noise,y_noise, model_m, model_c, True)\n",
    " \n",
    "print('\\nFinal model:\\n')\n",
    "print('  ratio = ', ratio)\n",
    "print('  model_m = ', model_m)\n",
    "print('  model_c = ', model_c)"
   ]
  },
  {
   "cell_type": "code",
   "execution_count": 1,
   "metadata": {
    "collapsed": false
   },
   "outputs": [],
   "source": [
    "import sys\n",
    "import numpy as np\n",
    "import matplotlib.pyplot as plt\n",
    "# from matplotlib.animation import FuncAnimation\n",
    "import seaborn\n",
    "from matplotlib import rc, animation\n",
    "from IPython.display import HTML\n",
    "\n",
    "rc('animation', html='html5')\n",
    "# First set up the figure, the axis, and the plot element we want to animate\n",
    "fig, ax = plt.subplots()\n",
    "\n",
    "ax.set_xlim(( 0, 2))\n",
    "ax.set_ylim((-2, 2))\n",
    "\n",
    "# ax.set_xlabel(label)\n",
    "# ax.legend(loc='upper center')\n",
    "line, = ax.plot([], [], lw=2)"
   ]
  },
  {
   "cell_type": "code",
   "execution_count": 3,
   "metadata": {
    "collapsed": false
   },
   "outputs": [
    {
     "ename": "NameError",
     "evalue": "name 'line1' is not defined",
     "output_type": "error",
     "traceback": [
      "\u001b[0;31m---------------------------------------------------------------------------\u001b[0m",
      "\u001b[0;31mNameError\u001b[0m                                 Traceback (most recent call last)",
      "\u001b[0;32m<ipython-input-3-d99d9b322b55>\u001b[0m in \u001b[0;36m<module>\u001b[0;34m()\u001b[0m\n\u001b[1;32m     39\u001b[0m                                frames=20, interval=200, blit=True)\n\u001b[1;32m     40\u001b[0m \u001b[1;33m\u001b[0m\u001b[0m\n\u001b[0;32m---> 41\u001b[0;31m \u001b[0mHTML\u001b[0m\u001b[1;33m(\u001b[0m\u001b[0manim\u001b[0m\u001b[1;33m.\u001b[0m\u001b[0mto_html5_video\u001b[0m\u001b[1;33m(\u001b[0m\u001b[1;33m)\u001b[0m\u001b[1;33m)\u001b[0m\u001b[1;33m\u001b[0m\u001b[0m\n\u001b[0m",
      "\u001b[0;32mC:\\Program Files\\Anaconda3\\lib\\site-packages\\matplotlib\\animation.py\u001b[0m in \u001b[0;36mto_html5_video\u001b[0;34m(self)\u001b[0m\n\u001b[1;32m    981\u001b[0m                                 \u001b[0mbitrate\u001b[0m\u001b[1;33m=\u001b[0m\u001b[0mrcParams\u001b[0m\u001b[1;33m[\u001b[0m\u001b[1;34m'animation.bitrate'\u001b[0m\u001b[1;33m]\u001b[0m\u001b[1;33m,\u001b[0m\u001b[1;33m\u001b[0m\u001b[0m\n\u001b[1;32m    982\u001b[0m                                 fps=1000. / self._interval)\n\u001b[0;32m--> 983\u001b[0;31m                 \u001b[0mself\u001b[0m\u001b[1;33m.\u001b[0m\u001b[0msave\u001b[0m\u001b[1;33m(\u001b[0m\u001b[0mf\u001b[0m\u001b[1;33m.\u001b[0m\u001b[0mname\u001b[0m\u001b[1;33m,\u001b[0m \u001b[0mwriter\u001b[0m\u001b[1;33m=\u001b[0m\u001b[0mwriter\u001b[0m\u001b[1;33m)\u001b[0m\u001b[1;33m\u001b[0m\u001b[0m\n\u001b[0m\u001b[1;32m    984\u001b[0m \u001b[1;33m\u001b[0m\u001b[0m\n\u001b[1;32m    985\u001b[0m             \u001b[1;31m# Now open and base64 encode\u001b[0m\u001b[1;33m\u001b[0m\u001b[1;33m\u001b[0m\u001b[0m\n",
      "\u001b[0;32mC:\\Program Files\\Anaconda3\\lib\\site-packages\\matplotlib\\animation.py\u001b[0m in \u001b[0;36msave\u001b[0;34m(self, filename, writer, fps, dpi, codec, bitrate, extra_args, metadata, extra_anim, savefig_kwargs)\u001b[0m\n\u001b[1;32m    835\u001b[0m                     \u001b[1;32mfor\u001b[0m \u001b[0manim\u001b[0m\u001b[1;33m,\u001b[0m \u001b[0md\u001b[0m \u001b[1;32min\u001b[0m \u001b[0mzip\u001b[0m\u001b[1;33m(\u001b[0m\u001b[0mall_anim\u001b[0m\u001b[1;33m,\u001b[0m \u001b[0mdata\u001b[0m\u001b[1;33m)\u001b[0m\u001b[1;33m:\u001b[0m\u001b[1;33m\u001b[0m\u001b[0m\n\u001b[1;32m    836\u001b[0m                         \u001b[1;31m# TODO: See if turning off blit is really necessary\u001b[0m\u001b[1;33m\u001b[0m\u001b[1;33m\u001b[0m\u001b[0m\n\u001b[0;32m--> 837\u001b[0;31m                         \u001b[0manim\u001b[0m\u001b[1;33m.\u001b[0m\u001b[0m_draw_next_frame\u001b[0m\u001b[1;33m(\u001b[0m\u001b[0md\u001b[0m\u001b[1;33m,\u001b[0m \u001b[0mblit\u001b[0m\u001b[1;33m=\u001b[0m\u001b[1;32mFalse\u001b[0m\u001b[1;33m)\u001b[0m\u001b[1;33m\u001b[0m\u001b[0m\n\u001b[0m\u001b[1;32m    838\u001b[0m                     \u001b[0mwriter\u001b[0m\u001b[1;33m.\u001b[0m\u001b[0mgrab_frame\u001b[0m\u001b[1;33m(\u001b[0m\u001b[1;33m**\u001b[0m\u001b[0msavefig_kwargs\u001b[0m\u001b[1;33m)\u001b[0m\u001b[1;33m\u001b[0m\u001b[0m\n\u001b[1;32m    839\u001b[0m \u001b[1;33m\u001b[0m\u001b[0m\n",
      "\u001b[0;32mC:\\Program Files\\Anaconda3\\lib\\site-packages\\matplotlib\\animation.py\u001b[0m in \u001b[0;36m_draw_next_frame\u001b[0;34m(self, framedata, blit)\u001b[0m\n\u001b[1;32m    872\u001b[0m         \u001b[1;31m# post- draw, as well as the drawing of the frame itself.\u001b[0m\u001b[1;33m\u001b[0m\u001b[1;33m\u001b[0m\u001b[0m\n\u001b[1;32m    873\u001b[0m         \u001b[0mself\u001b[0m\u001b[1;33m.\u001b[0m\u001b[0m_pre_draw\u001b[0m\u001b[1;33m(\u001b[0m\u001b[0mframedata\u001b[0m\u001b[1;33m,\u001b[0m \u001b[0mblit\u001b[0m\u001b[1;33m)\u001b[0m\u001b[1;33m\u001b[0m\u001b[0m\n\u001b[0;32m--> 874\u001b[0;31m         \u001b[0mself\u001b[0m\u001b[1;33m.\u001b[0m\u001b[0m_draw_frame\u001b[0m\u001b[1;33m(\u001b[0m\u001b[0mframedata\u001b[0m\u001b[1;33m)\u001b[0m\u001b[1;33m\u001b[0m\u001b[0m\n\u001b[0m\u001b[1;32m    875\u001b[0m         \u001b[0mself\u001b[0m\u001b[1;33m.\u001b[0m\u001b[0m_post_draw\u001b[0m\u001b[1;33m(\u001b[0m\u001b[0mframedata\u001b[0m\u001b[1;33m,\u001b[0m \u001b[0mblit\u001b[0m\u001b[1;33m)\u001b[0m\u001b[1;33m\u001b[0m\u001b[0m\n\u001b[1;32m    876\u001b[0m \u001b[1;33m\u001b[0m\u001b[0m\n",
      "\u001b[0;32mC:\\Program Files\\Anaconda3\\lib\\site-packages\\matplotlib\\animation.py\u001b[0m in \u001b[0;36m_draw_frame\u001b[0;34m(self, framedata)\u001b[0m\n\u001b[1;32m   1241\u001b[0m         \u001b[1;31m# Call the func with framedata and args. If blitting is desired,\u001b[0m\u001b[1;33m\u001b[0m\u001b[1;33m\u001b[0m\u001b[0m\n\u001b[1;32m   1242\u001b[0m         \u001b[1;31m# func needs to return a sequence of any artists that were modified.\u001b[0m\u001b[1;33m\u001b[0m\u001b[1;33m\u001b[0m\u001b[0m\n\u001b[0;32m-> 1243\u001b[0;31m         \u001b[0mself\u001b[0m\u001b[1;33m.\u001b[0m\u001b[0m_drawn_artists\u001b[0m \u001b[1;33m=\u001b[0m \u001b[0mself\u001b[0m\u001b[1;33m.\u001b[0m\u001b[0m_func\u001b[0m\u001b[1;33m(\u001b[0m\u001b[0mframedata\u001b[0m\u001b[1;33m,\u001b[0m \u001b[1;33m*\u001b[0m\u001b[0mself\u001b[0m\u001b[1;33m.\u001b[0m\u001b[0m_args\u001b[0m\u001b[1;33m)\u001b[0m\u001b[1;33m\u001b[0m\u001b[0m\n\u001b[0m\u001b[1;32m   1244\u001b[0m         \u001b[1;32mif\u001b[0m \u001b[0mself\u001b[0m\u001b[1;33m.\u001b[0m\u001b[0m_blit\u001b[0m\u001b[1;33m:\u001b[0m\u001b[1;33m\u001b[0m\u001b[0m\n\u001b[1;32m   1245\u001b[0m             \u001b[1;32mif\u001b[0m \u001b[0mself\u001b[0m\u001b[1;33m.\u001b[0m\u001b[0m_drawn_artists\u001b[0m \u001b[1;32mis\u001b[0m \u001b[1;32mNone\u001b[0m\u001b[1;33m:\u001b[0m\u001b[1;33m\u001b[0m\u001b[0m\n",
      "\u001b[0;32m<ipython-input-3-d99d9b322b55>\u001b[0m in \u001b[0;36manimate\u001b[0;34m(i)\u001b[0m\n\u001b[1;32m     20\u001b[0m \u001b[1;31m#     for lnum,line in enumerate(lines):\u001b[0m\u001b[1;33m\u001b[0m\u001b[1;33m\u001b[0m\u001b[0m\n\u001b[1;32m     21\u001b[0m \u001b[1;31m#         line.set_data(x,y1+i)\u001b[0m\u001b[1;33m\u001b[0m\u001b[1;33m\u001b[0m\u001b[0m\n\u001b[0;32m---> 22\u001b[0;31m     \u001b[0mline1\u001b[0m\u001b[1;33m.\u001b[0m\u001b[0mset_data\u001b[0m\u001b[1;33m(\u001b[0m\u001b[0mx\u001b[0m\u001b[1;33m,\u001b[0m \u001b[0my1\u001b[0m\u001b[1;33m)\u001b[0m\u001b[1;33m\u001b[0m\u001b[0m\n\u001b[0m\u001b[1;32m     23\u001b[0m     \u001b[0mline2\u001b[0m\u001b[1;33m.\u001b[0m\u001b[0mset_data\u001b[0m\u001b[1;33m(\u001b[0m\u001b[0mx\u001b[0m\u001b[1;33m,\u001b[0m \u001b[0my2\u001b[0m\u001b[1;33m)\u001b[0m\u001b[1;33m\u001b[0m\u001b[0m\n\u001b[1;32m     24\u001b[0m \u001b[1;31m#     ax.plot(x,y1, 'k:', label='Data length')\u001b[0m\u001b[1;33m\u001b[0m\u001b[1;33m\u001b[0m\u001b[0m\n",
      "\u001b[0;31mNameError\u001b[0m: name 'line1' is not defined"
     ]
    }
   ],
   "source": [
    "def init():\n",
    "    line.set_data([], [])\n",
    "    return (line,)\n",
    "# animation function. This is called sequentially\n",
    "\n",
    "\n",
    "lines = []\n",
    "timetext = ax.text(0.5,50,'')\n",
    "plotlays, plotcols = [2,5], [\"black\",\"red\"]\n",
    "for index,lay in enumerate(plotlays):\n",
    "    lobj = ax.plot([],[],lw=2,color=plotcols[index])[0]\n",
    "    lines.append(lobj)\n",
    "    \n",
    "def animate(i):\n",
    "    timetext.set_text(i)\n",
    "    label = 'iteration%d'%i\n",
    "    x = np.linspace(0, 2, 1000)\n",
    "    y1 = np.sin(2 * np.pi * (x - 0.01 * i))\n",
    "    y2= y1 +1\n",
    "#     for lnum,line in enumerate(lines):\n",
    "#         line.set_data(x,y1+i)\n",
    "    line1.set_data(x, y1)\n",
    "    line2.set_data(x, y2)\n",
    "#     ax.plot(x,y1, 'k:', label='Data length')\n",
    "#     ax.plot(x,y2, 'k--', label='Model length')\n",
    "        # plot input points\n",
    "    \n",
    "#     ax.plot(x[:,0], y[:,0], marker='o', label='Input points', color='#00cc00', linestyle='None', alpha=0.4)\n",
    "    # draw the current model\n",
    "#     ax.plot(x, m*x + c, 'r', label='Line model', color=line_color, linewidth=line_width)\n",
    "#     ax.plot(x_in, y_in, marker='o', label='Inliers', linestyle='None', color='#ff0000', alpha=0.6)\n",
    "    \n",
    "#     ax.set_xlabel(label)\n",
    "#     ax.legend(loc='upper center')\n",
    "#     ax.clear()\n",
    "    return ([line1,line2],(timetext))\n",
    "# call the animator. blit=True means only re-draw the parts that have changed.\n",
    "anim = animation.FuncAnimation(fig, animate, init_func=init,\n",
    "                               frames=20, interval=200, blit=True)\n",
    "\n",
    "HTML(anim.to_html5_video())\n"
   ]
  },
  {
   "cell_type": "code",
   "execution_count": null,
   "metadata": {
    "collapsed": true
   },
   "outputs": [],
   "source": []
  },
  {
   "cell_type": "code",
   "execution_count": null,
   "metadata": {
    "collapsed": true
   },
   "outputs": [],
   "source": []
  }
 ],
 "metadata": {
  "anaconda-cloud": {},
  "kernelspec": {
   "display_name": "Python [conda root]",
   "language": "python",
   "name": "conda-root-py"
  },
  "language_info": {
   "codemirror_mode": {
    "name": "ipython",
    "version": 3
   },
   "file_extension": ".py",
   "mimetype": "text/x-python",
   "name": "python",
   "nbconvert_exporter": "python",
   "pygments_lexer": "ipython3",
   "version": "3.5.2"
  }
 },
 "nbformat": 4,
 "nbformat_minor": 2
}
