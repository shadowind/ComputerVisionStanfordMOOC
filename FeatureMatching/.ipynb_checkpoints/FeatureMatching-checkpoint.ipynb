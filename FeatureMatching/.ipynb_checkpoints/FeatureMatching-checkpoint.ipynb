{
 "cells": [
  {
   "cell_type": "markdown",
   "metadata": {},
   "source": [
    "## Summary\n",
    "1. Local invariant features\t\n",
    "    - Motivation\n",
    "    - Requirements, invariances  \n",
    "2. Keypoint localization  \t\n",
    "    - Harris corner detector  \n",
    "3. Scale invariant region selection  \n",
    "    - Automatic scale selection\t\n",
    "    - Difference-of-Gaussian (DoG) detector\t\n",
    "4. SIFT: an image region descriptor\t"
   ]
  },
  {
   "cell_type": "code",
   "execution_count": null,
   "metadata": {
    "collapsed": true
   },
   "outputs": [],
   "source": []
  }
 ],
 "metadata": {
  "anaconda-cloud": {},
  "kernelspec": {
   "display_name": "Python [conda env:python3]",
   "language": "python",
   "name": "conda-env-python3-py"
  },
  "language_info": {
   "codemirror_mode": {
    "name": "ipython",
    "version": 3
   },
   "file_extension": ".py",
   "mimetype": "text/x-python",
   "name": "python",
   "nbconvert_exporter": "python",
   "pygments_lexer": "ipython3",
   "version": "3.5.5"
  }
 },
 "nbformat": 4,
 "nbformat_minor": 1
}
